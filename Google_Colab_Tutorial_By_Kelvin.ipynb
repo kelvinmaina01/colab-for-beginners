{
 "cells": [
  {
   "cell_type": "markdown",
   "id": "68bc9d77",
   "metadata": {},
   "source": [
    "# 📝 Getting Started with Google Colab  \n",
    "*By Kelvin*"
   ]
  },
  {
   "cell_type": "markdown",
   "id": "fee4d083",
   "metadata": {},
   "source": [
    "Hi there! 👋 Welcome to this tutorial on **Google Colab**. If you’ve ever wanted to write Python code without installing anything, Colab is your best friend. It’s free, beginner-friendly, and powerful enough for big projects like data science and machine learning.  \n",
    "\n",
    "In this notebook, we’ll explore step by step how to use Colab. Let’s go! 🚀"
   ]
  },
  {
   "cell_type": "markdown",
   "id": "57a0b6d6",
   "metadata": {},
   "source": [
    "## 🔹 1. What is Google Colab?"
   ]
  },
  {
   "cell_type": "markdown",
   "id": "79c34eee",
   "metadata": {},
   "source": [
    "Google Colab (short for *Colaboratory*) is a tool by Google that lets you:  \n",
    "- Write and run Python code in your browser.  \n",
    "- Use free CPUs, GPUs, and even TPUs.  \n",
    "- Install and use popular libraries (NumPy, Pandas, TensorFlow, PyTorch, etc.).  \n",
    "- Share notebooks just like Google Docs.  \n",
    "\n",
    "💡 Think of Colab as **a free Jupyter Notebook in the cloud**."
   ]
  },
  {
   "cell_type": "markdown",
   "id": "0f50910e",
   "metadata": {},
   "source": [
    "## 🔹 2. Hello World in Colab"
   ]
  },
  {
   "cell_type": "code",
   "execution_count": null,
   "id": "afdb7bec",
   "metadata": {},
   "outputs": [],
   "source": [
    "print(\"Hello, Google Colab! 👋🚀\")"
   ]
  },
  {
   "cell_type": "markdown",
   "id": "200d2032",
   "metadata": {},
   "source": [
    "## 🔹 3. Code Cells vs Text Cells"
   ]
  },
  {
   "cell_type": "markdown",
   "id": "a2516dba",
   "metadata": {},
   "source": [
    "Colab notebooks have **two types of cells**:  \n",
    "\n",
    "- 🟢 **Code cells** → where you write Python code.  \n",
    "- 📝 **Text cells** → where you explain things using Markdown (just like this one).  \n",
    "\n",
    "👉 Example of Markdown in a text cell:"
   ]
  },
  {
   "cell_type": "code",
   "execution_count": null,
   "id": "e95d6afd",
   "metadata": {},
   "outputs": [],
   "source": [
    "# Heading 1\n",
    "## Heading 2\n",
    "**Bold text**  \n",
    "*Italic text*  \n",
    "- Bullet list"
   ]
  },
  {
   "cell_type": "markdown",
   "id": "3c23567b",
   "metadata": {},
   "source": [
    "## 🔹 4. Working with Python in Colab"
   ]
  },
  {
   "cell_type": "markdown",
   "id": "e0c607be",
   "metadata": {},
   "source": [
    "### Example: Simple Math"
   ]
  },
  {
   "cell_type": "code",
   "execution_count": null,
   "id": "9df300c2",
   "metadata": {},
   "outputs": [],
   "source": [
    "a = 10\n",
    "b = 5\n",
    "print(\"Sum:\", a + b)\n",
    "print(\"Difference:\", a - b)\n",
    "print(\"Product:\", a * b)\n",
    "print(\"Division:\", a / b)"
   ]
  },
  {
   "cell_type": "markdown",
   "id": "67043ed1",
   "metadata": {},
   "source": [
    "## 🔹 5. Using Libraries"
   ]
  },
  {
   "cell_type": "markdown",
   "id": "47329de4",
   "metadata": {},
   "source": [
    "### Example: NumPy"
   ]
  },
  {
   "cell_type": "code",
   "execution_count": null,
   "id": "cf5b0ece",
   "metadata": {},
   "outputs": [],
   "source": [
    "import numpy as np\n",
    "\n",
    "data = np.array([10, 20, 30, 40, 50])\n",
    "print(\"Data:\", data)\n",
    "print(\"Mean:\", np.mean(data))\n",
    "print(\"Standard Deviation:\", np.std(data))"
   ]
  },
  {
   "cell_type": "markdown",
   "id": "64cd40e5",
   "metadata": {},
   "source": [
    "### Example: Pandas"
   ]
  },
  {
   "cell_type": "code",
   "execution_count": null,
   "id": "1fbe7034",
   "metadata": {},
   "outputs": [],
   "source": [
    "import pandas as pd\n",
    "\n",
    "df = pd.DataFrame({\n",
    "    \"Name\": [\"Kelvin\", \"Alice\", \"Bob\"],\n",
    "    \"Age\": [25, 30, 28]\n",
    "})\n",
    "df"
   ]
  },
  {
   "cell_type": "markdown",
   "id": "cb731ff7",
   "metadata": {},
   "source": [
    "## 🔹 6. Uploading and Accessing Files"
   ]
  },
  {
   "cell_type": "markdown",
   "id": "6a8c9e4a",
   "metadata": {},
   "source": [
    "### Upload from your computer:"
   ]
  },
  {
   "cell_type": "code",
   "execution_count": null,
   "id": "d0199709",
   "metadata": {},
   "outputs": [],
   "source": [
    "from google.colab import files\n",
    "uploaded = files.upload()  # Choose a file when prompted"
   ]
  },
  {
   "cell_type": "markdown",
   "id": "7ab9aaf5",
   "metadata": {},
   "source": [
    "### Mount Google Drive:"
   ]
  },
  {
   "cell_type": "code",
   "execution_count": null,
   "id": "6058066f",
   "metadata": {},
   "outputs": [],
   "source": [
    "from google.colab import drive\n",
    "drive.mount('/content/drive')"
   ]
  },
  {
   "cell_type": "markdown",
   "id": "7de746c2",
   "metadata": {},
   "source": [
    "## 🔹 7. Installing Extra Libraries"
   ]
  },
  {
   "cell_type": "markdown",
   "id": "bc1ca0dd",
   "metadata": {},
   "source": [
    "### Example: Installing Matplotlib"
   ]
  },
  {
   "cell_type": "code",
   "execution_count": null,
   "id": "e6965b75",
   "metadata": {},
   "outputs": [],
   "source": [
    "!pip install matplotlib\n",
    "import matplotlib.pyplot as plt\n",
    "\n",
    "x = [1, 2, 3, 4, 5]\n",
    "y = [n**2 for n in x]\n",
    "\n",
    "plt.plot(x, y, marker=\"o\")\n",
    "plt.title(\"Square Numbers\")\n",
    "plt.xlabel(\"x\")\n",
    "plt.ylabel(\"y\")\n",
    "plt.show()"
   ]
  },
  {
   "cell_type": "markdown",
   "id": "48841b44",
   "metadata": {},
   "source": [
    "## 🔹 8. Using GPUs and TPUs"
   ]
  },
  {
   "cell_type": "markdown",
   "id": "d8f00fbd",
   "metadata": {},
   "source": [
    "Need speed? 💨  \n",
    "\n",
    "1. Go to **Runtime → Change runtime type**.  \n",
    "2. Under *Hardware Accelerator*, choose **GPU** or **TPU**.  \n",
    "\n",
    "Check if you have a GPU:"
   ]
  },
  {
   "cell_type": "code",
   "execution_count": null,
   "id": "34d40e36",
   "metadata": {},
   "outputs": [],
   "source": [
    "!nvidia-smi"
   ]
  },
  {
   "cell_type": "markdown",
   "id": "fc60ad4b",
   "metadata": {},
   "source": [
    "## 🔹 9. Saving and Sharing"
   ]
  },
  {
   "cell_type": "markdown",
   "id": "10e2f288",
   "metadata": {},
   "source": [
    "- Your notebook is **auto-saved** in Google Drive.  \n",
    "- To **share**, click the **Share button** (top right).  \n",
    "- To **download**, go to `File → Download → .ipynb` or `.py`."
   ]
  },
  {
   "cell_type": "markdown",
   "id": "acd1e632",
   "metadata": {},
   "source": [
    "## 🎉 Summary"
   ]
  },
  {
   "cell_type": "markdown",
   "id": "72f15d13",
   "metadata": {},
   "source": [
    "In this tutorial, we learned how to:  \n",
    "✅ Run code in Colab  \n",
    "✅ Use text & code cells  \n",
    "✅ Work with Python libraries  \n",
    "✅ Upload files & use Google Drive  \n",
    "✅ Install new libraries  \n",
    "✅ Enable GPUs/TPUs  \n",
    "✅ Save and share notebooks  \n",
    "\n",
    "Colab is your all-in-one Python playground. Have fun experimenting! 🚀"
   ]
  }
 ],
 "metadata": {},
 "nbformat": 4,
 "nbformat_minor": 5
}